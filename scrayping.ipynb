{
 "cells": [
  {
   "cell_type": "code",
   "execution_count": 1,
   "id": "33b8e864-ecfc-42ff-8403-df6841ffa943",
   "metadata": {},
   "outputs": [],
   "source": [
    "import pandas as pd\n",
    "url='https://ja.wikipedia.org/wiki/%E5%85%A8%E5%9B%BD%E3%83%9D%E3%82%B1%E3%83%A2%E3%83%B3%E5%9B%B3%E9%91%91%E9%A0%86%E3%81%AE%E3%83%9D%E3%82%B1%E3%83%A2%E3%83%B3%E4%B8%80%E8%A6%A7'\n",
    "dfs=pd.read_html(url)"
   ]
  },
  {
   "cell_type": "code",
   "execution_count": 3,
   "id": "70e31226-65e8-4c34-a739-f37dbd2da849",
   "metadata": {},
   "outputs": [],
   "source": [
    "df_1=pd.DataFrame(columns=['No.','名前'])\n",
    "for i in range(1,17):\n",
    "    df_1=pd.concat([df_1,dfs[i]],axis=0)"
   ]
  },
  {
   "cell_type": "code",
   "execution_count": 4,
   "id": "ce44a08d-f13e-4a34-8d6a-eb75eeeeec4d",
   "metadata": {},
   "outputs": [],
   "source": [
    "df_2=pd.DataFrame(columns=['No.','名前'])\n",
    "for i in range(18,29):\n",
    "    df_2=pd.concat([df_2,dfs[i]],axis=0)\n",
    "df_2=df_2.dropna(how='all')"
   ]
  },
  {
   "cell_type": "code",
   "execution_count": 5,
   "id": "e7a0f6e3-3bf2-42b4-ab5d-d69da5f88b9e",
   "metadata": {},
   "outputs": [],
   "source": [
    "df_3=pd.DataFrame(columns=['No.','名前'])\n",
    "for i in range(30,44):\n",
    "    df_3=pd.concat([df_3,dfs[i]],axis=0)\n",
    "df_3=df_3.dropna(how='all')"
   ]
  },
  {
   "cell_type": "code",
   "execution_count": 6,
   "id": "756a39b0-93db-4853-a2a1-5818a3bc2f40",
   "metadata": {},
   "outputs": [],
   "source": [
    "df_4=pd.DataFrame(columns=['No.','名前'])\n",
    "for i in range(45,57):\n",
    "    df_4=pd.concat([df_4,dfs[i]],axis=0)\n",
    "df_4=df_4.dropna(how='all')"
   ]
  },
  {
   "cell_type": "code",
   "execution_count": 7,
   "id": "c6c6c6e2-0654-46b3-89b6-d65e053c382c",
   "metadata": {},
   "outputs": [],
   "source": [
    "df_5=pd.DataFrame(columns=['No.','名前'])\n",
    "for i in range(58,74):\n",
    "    df_5=pd.concat([df_5,dfs[i]],axis=0)\n",
    "df_5=df_5.dropna(how='all')"
   ]
  },
  {
   "cell_type": "code",
   "execution_count": 8,
   "id": "671382d3-1d6b-4ed1-90eb-38bfcb64f257",
   "metadata": {},
   "outputs": [],
   "source": [
    "df_6=pd.DataFrame(columns=['No.','名前'])\n",
    "for i in range(75,84):\n",
    "    df_6=pd.concat([df_6,dfs[i]],axis=0)\n",
    "df_6=df_6.dropna(how='all')"
   ]
  },
  {
   "cell_type": "code",
   "execution_count": 9,
   "id": "f96b74da-920e-49e4-93ce-ebc4785610b7",
   "metadata": {},
   "outputs": [],
   "source": [
    "df_7=pd.DataFrame(columns=['No.','名前'])\n",
    "for i in range(85,94):\n",
    "    df_7=pd.concat([df_7,dfs[i]],axis=0)\n",
    "df_7=df_7.dropna(how='all')"
   ]
  },
  {
   "cell_type": "code",
   "execution_count": 10,
   "id": "67ee2a37-9aba-4ad4-82f8-3d6438b06d5c",
   "metadata": {},
   "outputs": [],
   "source": [
    "df_go=pd.DataFrame(columns=['No.','名前'])\n",
    "for i in range(95,96):\n",
    "    df_go=pd.concat([df_go,dfs[i]],axis=0)\n",
    "df_go=df_go.dropna(how='all')"
   ]
  },
  {
   "cell_type": "code",
   "execution_count": 11,
   "id": "6b7ddba6-dff8-482c-a5f3-8fb5fd2b2f5f",
   "metadata": {},
   "outputs": [],
   "source": [
    "df_8=pd.DataFrame(columns=['No.','名前'])\n",
    "for i in range(97,107):\n",
    "    df_8=pd.concat([df_8,dfs[i]],axis=0)\n",
    "df_8=df_8.dropna(how='all')"
   ]
  },
  {
   "cell_type": "code",
   "execution_count": 12,
   "id": "b4d2f224-9aec-4672-82ef-4637a111325e",
   "metadata": {},
   "outputs": [],
   "source": [
    "df_al=pd.DataFrame(columns=['No.','名前'])\n",
    "for i in range(108,109):\n",
    "    df_al=pd.concat([df_al,dfs[i]],axis=0)\n",
    "df_al=df_al.dropna(how='all')"
   ]
  },
  {
   "cell_type": "code",
   "execution_count": 13,
   "id": "e89cf490-10f9-47d8-b199-afb56b71c349",
   "metadata": {},
   "outputs": [],
   "source": [
    "df=pd.concat([df_1,df_2,df_3,df_4,df_5,df_6,df_7,df_8,df_go])\n",
    "df=df.reset_index(drop=True)"
   ]
  },
  {
   "cell_type": "code",
   "execution_count": 17,
   "id": "40db17ff-e1a7-4fa1-bfc3-41823af51492",
   "metadata": {},
   "outputs": [
    {
     "data": {
      "text/html": [
       "<div>\n",
       "<style scoped>\n",
       "    .dataframe tbody tr th:only-of-type {\n",
       "        vertical-align: middle;\n",
       "    }\n",
       "\n",
       "    .dataframe tbody tr th {\n",
       "        vertical-align: top;\n",
       "    }\n",
       "\n",
       "    .dataframe thead th {\n",
       "        text-align: right;\n",
       "    }\n",
       "</style>\n",
       "<table border=\"1\" class=\"dataframe\">\n",
       "  <thead>\n",
       "    <tr style=\"text-align: right;\">\n",
       "      <th></th>\n",
       "      <th>No.</th>\n",
       "      <th>名前</th>\n",
       "    </tr>\n",
       "  </thead>\n",
       "  <tbody>\n",
       "    <tr>\n",
       "      <th>0</th>\n",
       "      <td>1</td>\n",
       "      <td>フシギダネ</td>\n",
       "    </tr>\n",
       "    <tr>\n",
       "      <th>1</th>\n",
       "      <td>2</td>\n",
       "      <td>フシギソウ</td>\n",
       "    </tr>\n",
       "    <tr>\n",
       "      <th>2</th>\n",
       "      <td>3</td>\n",
       "      <td>フシギバナ</td>\n",
       "    </tr>\n",
       "    <tr>\n",
       "      <th>3</th>\n",
       "      <td>6</td>\n",
       "      <td>リザードン</td>\n",
       "    </tr>\n",
       "    <tr>\n",
       "      <th>4</th>\n",
       "      <td>9</td>\n",
       "      <td>カメックス</td>\n",
       "    </tr>\n",
       "    <tr>\n",
       "      <th>...</th>\n",
       "      <td>...</td>\n",
       "      <td>...</td>\n",
       "    </tr>\n",
       "    <tr>\n",
       "      <th>510</th>\n",
       "      <td>894.0</td>\n",
       "      <td>レジエレキ</td>\n",
       "    </tr>\n",
       "    <tr>\n",
       "      <th>511</th>\n",
       "      <td>895.0</td>\n",
       "      <td>レジドラゴ</td>\n",
       "    </tr>\n",
       "    <tr>\n",
       "      <th>512</th>\n",
       "      <td>896.0</td>\n",
       "      <td>ブリザポス</td>\n",
       "    </tr>\n",
       "    <tr>\n",
       "      <th>513</th>\n",
       "      <td>897.0</td>\n",
       "      <td>レイスポス</td>\n",
       "    </tr>\n",
       "    <tr>\n",
       "      <th>514</th>\n",
       "      <td>809</td>\n",
       "      <td>メルメタル</td>\n",
       "    </tr>\n",
       "  </tbody>\n",
       "</table>\n",
       "<p>515 rows × 2 columns</p>\n",
       "</div>"
      ],
      "text/plain": [
       "       No.     名前\n",
       "0        1  フシギダネ\n",
       "1        2  フシギソウ\n",
       "2        3  フシギバナ\n",
       "3        6  リザードン\n",
       "4        9  カメックス\n",
       "..     ...    ...\n",
       "510  894.0  レジエレキ\n",
       "511  895.0  レジドラゴ\n",
       "512  896.0  ブリザポス\n",
       "513  897.0  レイスポス\n",
       "514    809  メルメタル\n",
       "\n",
       "[515 rows x 2 columns]"
      ]
     },
     "execution_count": 17,
     "metadata": {},
     "output_type": "execute_result"
    }
   ],
   "source": [
    "list_drop=[]\n",
    "for i in range(len(df),0,-1):\n",
    "    if len(df.iloc[i-1,1]) != 5:\n",
    "        list_drop.append(i-1)\n",
    "df=df.drop(list_drop)\n",
    "df.reset_index(drop=True)"
   ]
  },
  {
   "cell_type": "code",
   "execution_count": 18,
   "id": "8b495ef1-ac55-4d90-8bac-3790ebbcfc48",
   "metadata": {},
   "outputs": [
    {
     "data": {
      "text/html": [
       "<div>\n",
       "<style scoped>\n",
       "    .dataframe tbody tr th:only-of-type {\n",
       "        vertical-align: middle;\n",
       "    }\n",
       "\n",
       "    .dataframe tbody tr th {\n",
       "        vertical-align: top;\n",
       "    }\n",
       "\n",
       "    .dataframe thead th {\n",
       "        text-align: right;\n",
       "    }\n",
       "</style>\n",
       "<table border=\"1\" class=\"dataframe\">\n",
       "  <thead>\n",
       "    <tr style=\"text-align: right;\">\n",
       "      <th></th>\n",
       "      <th>No.</th>\n",
       "      <th>名前</th>\n",
       "    </tr>\n",
       "  </thead>\n",
       "  <tbody>\n",
       "    <tr>\n",
       "      <th>0</th>\n",
       "      <td>1</td>\n",
       "      <td>フシギダネ</td>\n",
       "    </tr>\n",
       "    <tr>\n",
       "      <th>1</th>\n",
       "      <td>2</td>\n",
       "      <td>フシギソウ</td>\n",
       "    </tr>\n",
       "    <tr>\n",
       "      <th>2</th>\n",
       "      <td>3</td>\n",
       "      <td>フシギバナ</td>\n",
       "    </tr>\n",
       "    <tr>\n",
       "      <th>5</th>\n",
       "      <td>6</td>\n",
       "      <td>リザードン</td>\n",
       "    </tr>\n",
       "    <tr>\n",
       "      <th>8</th>\n",
       "      <td>9</td>\n",
       "      <td>カメックス</td>\n",
       "    </tr>\n",
       "    <tr>\n",
       "      <th>...</th>\n",
       "      <td>...</td>\n",
       "      <td>...</td>\n",
       "    </tr>\n",
       "    <tr>\n",
       "      <th>891</th>\n",
       "      <td>894.0</td>\n",
       "      <td>レジエレキ</td>\n",
       "    </tr>\n",
       "    <tr>\n",
       "      <th>892</th>\n",
       "      <td>895.0</td>\n",
       "      <td>レジドラゴ</td>\n",
       "    </tr>\n",
       "    <tr>\n",
       "      <th>893</th>\n",
       "      <td>896.0</td>\n",
       "      <td>ブリザポス</td>\n",
       "    </tr>\n",
       "    <tr>\n",
       "      <th>894</th>\n",
       "      <td>897.0</td>\n",
       "      <td>レイスポス</td>\n",
       "    </tr>\n",
       "    <tr>\n",
       "      <th>897</th>\n",
       "      <td>809</td>\n",
       "      <td>メルメタル</td>\n",
       "    </tr>\n",
       "  </tbody>\n",
       "</table>\n",
       "<p>515 rows × 2 columns</p>\n",
       "</div>"
      ],
      "text/plain": [
       "       No.     名前\n",
       "0        1  フシギダネ\n",
       "1        2  フシギソウ\n",
       "2        3  フシギバナ\n",
       "5        6  リザードン\n",
       "8        9  カメックス\n",
       "..     ...    ...\n",
       "891  894.0  レジエレキ\n",
       "892  895.0  レジドラゴ\n",
       "893  896.0  ブリザポス\n",
       "894  897.0  レイスポス\n",
       "897    809  メルメタル\n",
       "\n",
       "[515 rows x 2 columns]"
      ]
     },
     "execution_count": 18,
     "metadata": {},
     "output_type": "execute_result"
    }
   ],
   "source": [
    "df"
   ]
  },
  {
   "cell_type": "code",
   "execution_count": 19,
   "id": "e10bc9b6-0cb7-4c3b-b750-b2f0a3a89730",
   "metadata": {},
   "outputs": [],
   "source": [
    "import pickle\n",
    "df_1.to_pickle('df_1.pickle')\n",
    "df_2.to_pickle('df_2.pickle')\n",
    "df_3.to_pickle('df_3.pickle')\n",
    "df_4.to_pickle('df_4.pickle')\n",
    "df_5.to_pickle('df_5.pickle')\n",
    "df_6.to_pickle('df_6.pickle')\n",
    "df_7.to_pickle('df_7.pickle')\n",
    "df_go.to_pickle('df_go.pickle')\n",
    "df_8.to_pickle('df_8.pickle')\n",
    "df_al.to_pickle('df_al.pickle')"
   ]
  }
 ],
 "metadata": {
  "kernelspec": {
   "display_name": "Python 3 (ipykernel)",
   "language": "python",
   "name": "python3"
  },
  "language_info": {
   "codemirror_mode": {
    "name": "ipython",
    "version": 3
   },
   "file_extension": ".py",
   "mimetype": "text/x-python",
   "name": "python",
   "nbconvert_exporter": "python",
   "pygments_lexer": "ipython3",
   "version": "3.10.0"
  }
 },
 "nbformat": 4,
 "nbformat_minor": 5
}
